{
 "cells": [
  {
   "cell_type": "code",
   "execution_count": 40,
   "metadata": {},
   "outputs": [
    {
     "output_type": "stream",
     "name": "stdout",
     "text": "The autoreload extension is already loaded. To reload it, use:\n  %reload_ext autoreload\n"
    }
   ],
   "source": [
    "%load_ext autoreload\n",
    "%autoreload 2\n",
    "\n",
    "import sys; sys.path.append('../')\n",
    "\n",
    "from austen import Logger\n",
    "import networkx as nx\n",
    "import numpy as np\n",
    "from pathlib import Path\n",
    "from timeit import default_timer as timer\n",
    "\n",
    "from bike.model.graph import Graph"
   ]
  },
  {
   "cell_type": "code",
   "execution_count": 41,
   "metadata": {},
   "outputs": [],
   "source": [
    "VERTICES_PATH = Path('../data/vertices.csv')\n",
    "EDGES_PATH = Path('../data/edges.csv')\n",
    "logger = Logger(Path('../log/analysis'))"
   ]
  },
  {
   "cell_type": "code",
   "execution_count": 43,
   "metadata": {},
   "outputs": [],
   "source": [
    "def calculate_metric(metric, graph):\n",
    "    start = timer()\n",
    "    result = metric(graph)\n",
    "    end = timer()\n",
    "\n",
    "    dt = end - start\n",
    "\n",
    "    return result, dt"
   ]
  },
  {
   "cell_type": "code",
   "execution_count": 44,
   "metadata": {
    "tags": [
     "outputPrepend"
    ]
   },
   "outputs": [],
   "source": [
    "graph = Graph(VERTICES_PATH, EDGES_PATH)\n",
    "nx_graph = graph.nx_graph"
   ]
  },
  {
   "cell_type": "code",
   "execution_count": 45,
   "metadata": {
    "tags": [
     "outputPrepend"
    ]
   },
   "outputs": [
    {
     "output_type": "stream",
     "name": "stdout",
     "text": "degree\n2.4414146591491543\ndt: 4.79999994240643e-06\n"
    }
   ],
   "source": [
    "result, dt = calculate_metric(\n",
    "    nx.degree,\n",
    "    nx_graph    \n",
    ")\n",
    "\n",
    "avg_degree = [degree for node_id, degree in result]\n",
    "avg_degree = np.average(avg_degree)\n",
    "\n",
    "print('Average degree')\n",
    "print(avg_degree)\n",
    "print(f'dt: {dt}')"
   ]
  },
  {
   "cell_type": "code",
   "execution_count": 46,
   "metadata": {},
   "outputs": [
    {
     "output_type": "stream",
     "name": "stdout",
     "text": "degree histogram\n[0, 1419, 3313, 4331, 682, 10]\ndt: 0.003243099999963306\n"
    }
   ],
   "source": [
    "result, dt = calculate_metric(\n",
    "    nx.degree_histogram,\n",
    "    nx_graph    \n",
    ")\n",
    "\n",
    "print('Degree histogram')\n",
    "print(result)\n",
    "print(f'dt: {dt}')"
   ]
  },
  {
   "cell_type": "code",
   "execution_count": null,
   "metadata": {},
   "outputs": [],
   "source": [
    "result, dt = calculate_metric(\n",
    "    nx.algorithms.centrality.betweenness_centrality,\n",
    "    nx_graph    \n",
    ")\n",
    "\n",
    "print('Betweenness centrality')\n",
    "print(result)\n",
    "print(f'dt: {dt}')"
   ]
  },
  {
   "cell_type": "code",
   "execution_count": null,
   "metadata": {},
   "outputs": [],
   "source": [
    "result, dt = calculate_metric(\n",
    "    nx.algorithms.centrality.closeness_centrality,\n",
    "    nx_graph    \n",
    ")\n",
    "\n",
    "print('Closeness centrality')\n",
    "print(result)\n",
    "print(f'dt: {dt}')"
   ]
  },
  {
   "cell_type": "code",
   "execution_count": null,
   "metadata": {},
   "outputs": [],
   "source": [
    "result, dt = calculate_metric(\n",
    "    nx.algorithms.clustering,\n",
    "    nx_graph    \n",
    ")\n",
    "\n",
    "print('Clustering')\n",
    "print(result)\n",
    "print(f'dt: {dt}')"
   ]
  },
  {
   "cell_type": "code",
   "execution_count": null,
   "metadata": {},
   "outputs": [],
   "source": [
    "result, dt = calculate_metric(\n",
    "    nx.algorithms.link_analysis.pagerank,\n",
    "    nx_graph    \n",
    ")\n",
    "\n",
    "print('Page rank')\n",
    "print(result)\n",
    "print(f'dt: {dt}')"
   ]
  },
  {
   "cell_type": "code",
   "execution_count": null,
   "metadata": {},
   "outputs": [],
   "source": [
    "result, dt = calculate_metric(\n",
    "    nx.algorithms.all_pairs_shortest_path,\n",
    "    nx_graph    \n",
    ")\n",
    "\n",
    "print('All pairs shortest path')\n",
    "print(result)\n",
    "print(f'dt: {dt}')"
   ]
  },
  {
   "cell_type": "code",
   "execution_count": null,
   "metadata": {},
   "outputs": [],
   "source": [
    "result, dt = calculate_metric(\n",
    "    nx.algorithms.distance_measures.diameter,\n",
    "    nx_graph    \n",
    ")\n",
    "\n",
    "print('Diameter')\n",
    "print(result)\n",
    "print(f'dt: {dt}')"
   ]
  },
  {
   "cell_type": "code",
   "execution_count": null,
   "metadata": {},
   "outputs": [],
   "source": [
    "result, dt = calculate_metric(\n",
    "    nx.algorithms.components.number_connected_components,\n",
    "    nx_graph    \n",
    ")\n",
    "\n",
    "print('Number of connected components')\n",
    "print(result)\n",
    "print(f'dt: {dt}')"
   ]
  },
  {
   "cell_type": "code",
   "execution_count": null,
   "metadata": {},
   "outputs": [],
   "source": [
    "result, dt = calculate_metric(\n",
    "    nx.networkx.density,\n",
    "    nx_graph    \n",
    ")\n",
    "\n",
    "print('Density')\n",
    "print(result)\n",
    "print(f'dt: {dt}')"
   ]
  }
 ],
 "metadata": {
  "kernelspec": {
   "display_name": "Python 3.7.5 64-bit ('env': virtualenv)",
   "language": "python",
   "name": "python37564bitenvvirtualenva01c0f1a757c4086bcfd227527205786"
  },
  "language_info": {
   "codemirror_mode": {
    "name": "ipython",
    "version": 3
   },
   "file_extension": ".py",
   "mimetype": "text/x-python",
   "name": "python",
   "nbconvert_exporter": "python",
   "pygments_lexer": "ipython3",
   "version": "3.7.5-final"
  }
 },
 "nbformat": 4,
 "nbformat_minor": 2
}