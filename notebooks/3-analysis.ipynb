{
 "cells": [
  {
   "cell_type": "code",
   "execution_count": 16,
   "metadata": {},
   "outputs": [
    {
     "output_type": "stream",
     "name": "stdout",
     "text": "The autoreload extension is already loaded. To reload it, use:\n  %reload_ext autoreload\n"
    }
   ],
   "source": [
    "%load_ext autoreload\n",
    "%autoreload 2\n",
    "\n",
    "import sys; sys.path.append('../')\n",
    "\n",
    "from austen import Logger\n",
    "import networkx as nx\n",
    "from pathlib import Path\n",
    "from timeit import timeit\n",
    "\n",
    "from bike.model.graph import Graph"
   ]
  },
  {
   "cell_type": "code",
   "execution_count": 17,
   "metadata": {},
   "outputs": [],
   "source": [
    "VERTICES_PATH = Path('../data/vertices.csv')\n",
    "EDGES_PATH = Path('../data/edges.csv')\n",
    "logger = Logger(Path('log/analysis'))"
   ]
  },
  {
   "cell_type": "code",
   "execution_count": 18,
   "metadata": {},
   "outputs": [],
   "source": [
    "def degree(G: nx.Graph):\n",
    "    return G.degree()\n",
    "\n",
    "METRICS = [\n",
    "    degree,\n",
    "    nx.algorithms.centrality.betweenness_centrality,\n",
    "    nx.algorithms.centrality.closeness_centrality,\n",
    "    nx.algorithms.clustering,\n",
    "    nx.algorithms.link_analysis.pagerank,\n",
    "    nx.algorithms.all_pairs_shortest_path,\n",
    "    nx.algorithms.distance_measures.diameter,\n",
    "    nx.algorithms.components.number_connected_components,\n",
    "    nx.networkx.density\n",
    "]"
   ]
  },
  {
   "cell_type": "code",
   "execution_count": 19,
   "metadata": {},
   "outputs": [],
   "source": [
    "def calculate_metric(metric, graph):\n",
    "    start = timeit()\n",
    "    result = metric(graph)\n",
    "    end = timeit()\n",
    "\n",
    "    dt = end - start\n",
    "\n",
    "    return result, dt"
   ]
  },
  {
   "cell_type": "code",
   "execution_count": null,
   "metadata": {
    "tags": [
     "outputPrepend"
    ]
   },
   "outputs": [],
   "source": [
    "graph = Graph(VERTICES_PATH, EDGES_PATH)\n",
    "nx_graph = graph.nx_graph\n",
    "\n",
    "for metric in METRICS:\n",
    "    result, dt = calculate_metric(metric, nx_graph)\n",
    "\n",
    "    print('\\n' * 3)\n",
    "    # print(f'{metric.__name__}: {result}')\n",
    "    print(f'dt: {dt}')"
   ]
  }
 ],
 "metadata": {
  "language_info": {
   "codemirror_mode": {
    "name": "ipython",
    "version": 3
   },
   "file_extension": ".py",
   "mimetype": "text/x-python",
   "name": "python",
   "nbconvert_exporter": "python",
   "pygments_lexer": "ipython3",
   "version": "3.7.5-final"
  },
  "orig_nbformat": 2,
  "kernelspec": {
   "name": "python37564bitenvvirtualenva01c0f1a757c4086bcfd227527205786",
   "display_name": "Python 3.7.5 64-bit ('env': virtualenv)"
  }
 },
 "nbformat": 4,
 "nbformat_minor": 2
}