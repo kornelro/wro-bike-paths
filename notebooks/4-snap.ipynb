{
 "cells": [
  {
   "cell_type": "code",
   "execution_count": 1,
   "metadata": {},
   "outputs": [],
   "source": [
    "%load_ext autoreload\n",
    "%autoreload 2\n",
    "\n",
    "import sys; sys.path.append('../')\n",
    "\n",
    "from austen import Logger\n",
    "from pathlib import Path\n",
    "import joblib\n",
    "import networkx as nx\n",
    "import matplotlib.pyplot as plt\n",
    "\n",
    "from bike.model.graph import Graph\n",
    "from bike.util.snap import snap_vertices"
   ]
  },
  {
   "cell_type": "code",
   "execution_count": 2,
   "metadata": {},
   "outputs": [],
   "source": [
    "VERTICES_BIKES_PATH = Path('../data/vertices_bikes.csv')\n",
    "EDGES_BIKES_PATH = Path('../data/edges_bikes.csv')\n",
    "\n",
    "VERTICES_ROADS_PATH = Path('../data/vertices_roads.csv')\n",
    "EDGES_ROADS_PATH = Path('../data/edges_roads.csv')\n",
    "\n",
    "logger = Logger(Path('log/preprocessing'))\n",
    "\n",
    "graph_bikes_obj = Graph(VERTICES_BIKES_PATH, EDGES_BIKES_PATH)\n",
    "graph_bikes = graph_bikes_obj.nx_graph\n",
    "\n",
    "graph_roads_obj = Graph(VERTICES_ROADS_PATH, EDGES_ROADS_PATH)\n",
    "graph_roads = graph_roads_obj.nx_graph"
   ]
  },
  {
   "cell_type": "code",
   "execution_count": 3,
   "metadata": {},
   "outputs": [],
   "source": [
    "pos_bikes = {int(id): (v.x, v.y) for id, v in graph_bikes_obj.vertices_by_id.items()}\n",
    "pos_roads = {int(id): (v.x, v.y) for id, v in graph_roads_obj.vertices_by_id.items()}"
   ]
  },
  {
   "cell_type": "code",
   "execution_count": 4,
   "metadata": {},
   "outputs": [],
   "source": [
    "# plt.figure(figsize=(20,15))\n",
    "# nx.draw(graph_roads, pos_roads, node_size=5, width=1)"
   ]
  },
  {
   "cell_type": "code",
   "execution_count": 5,
   "metadata": {},
   "outputs": [],
   "source": [
    "graph_bikes_obj = snap_vertices(graph_roads_obj, graph_bikes_obj)"
   ]
  },
  {
   "cell_type": "code",
   "execution_count": 8,
   "metadata": {},
   "outputs": [],
   "source": [
    "# snapped_obj = joblib.load('../data/bikes_snapped.joblib')\n",
    "# pos_snapped = {int(id): (v.x, v.y) for id, v in snapped_obj.vertices_by_id.items()}\n",
    "# graph_snapped = snapped_obj.nx_graph\n",
    "\n",
    "# plt.figure(figsize=(20,15))\n",
    "# nx.draw(graph_bikes, pos_bikes, node_size=5, width=1, alpha=0.3, node_color='r')\n",
    "# nx.draw(graph_snapped, pos_snapped, node_size=5, width=1)\n",
    "# plt.show()"
   ]
  }
 ],
 "metadata": {
  "language_info": {
   "codemirror_mode": {
    "name": "ipython",
    "version": 3
   },
   "file_extension": ".py",
   "mimetype": "text/x-python",
   "name": "python",
   "nbconvert_exporter": "python",
   "pygments_lexer": "ipython3",
   "version": "3.7.7-final"
  },
  "orig_nbformat": 2,
  "kernelspec": {
   "name": "python37764bitvenvvenv6771a4de48e44e9bbbfc03bdf11f6af9",
   "display_name": "Python 3.7.7 64-bit ('venv': venv)"
  }
 },
 "nbformat": 4,
 "nbformat_minor": 2
}