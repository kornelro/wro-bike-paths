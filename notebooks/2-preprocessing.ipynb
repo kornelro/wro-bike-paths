{
 "cells": [
  {
   "cell_type": "code",
   "execution_count": 1,
   "metadata": {},
   "outputs": [],
   "source": [
    "%load_ext autoreload\n",
    "%autoreload 2\n",
    "\n",
    "import sys; sys.path.append('../')\n",
    "\n",
    "from austen import Logger\n",
    "from pathlib import Path\n",
    "\n",
    "from bike.model.graph import Graph\n",
    "from bike.util.preprocessing import smooth_graph"
   ]
  },
  {
   "cell_type": "code",
   "execution_count": 2,
   "metadata": {},
   "outputs": [
    {
     "output_type": "stream",
     "name": "stderr",
     "text": "100%|██████████| 9755/9755 [00:00<00:00, 73902.33it/s]\n100%|██████████| 3313/3313 [00:00<00:00, 132527.08it/s]\n"
    }
   ],
   "source": [
    "VERTICES_PATH = Path('../data/vertices.csv')\n",
    "EDGES_PATH = Path('../data/edges.csv')\n",
    "\n",
    "logger = Logger(Path('log/preprocessing'))\n",
    "\n",
    "\n",
    "graph = Graph(VERTICES_PATH, EDGES_PATH)\n",
    "smoothed_graph = smooth_graph(graph, angle_treshold=0)\n",
    "\n",
    "logger.save_obj(smoothed_graph, name='preprocessed.nx')"
   ]
  }
 ],
 "metadata": {
  "language_info": {
   "codemirror_mode": {
    "name": "ipython",
    "version": 3
   },
   "file_extension": ".py",
   "mimetype": "text/x-python",
   "name": "python",
   "nbconvert_exporter": "python",
   "pygments_lexer": "ipython3",
   "version": "3.7.7-final"
  },
  "orig_nbformat": 2,
  "kernelspec": {
   "name": "python37764bitvenvvenv6771a4de48e44e9bbbfc03bdf11f6af9",
   "display_name": "Python 3.7.7 64-bit ('venv': venv)"
  }
 },
 "nbformat": 4,
 "nbformat_minor": 2
}