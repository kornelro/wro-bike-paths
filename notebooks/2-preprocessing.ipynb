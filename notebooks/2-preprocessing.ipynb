{
 "cells": [
  {
   "cell_type": "code",
   "execution_count": 5,
   "metadata": {},
   "outputs": [
    {
     "output_type": "stream",
     "name": "stdout",
     "text": "The autoreload extension is already loaded. To reload it, use:\n  %reload_ext autoreload\n"
    }
   ],
   "source": [
    "%load_ext autoreload\n",
    "%autoreload 2\n",
    "\n",
    "import sys; sys.path.append('../')\n",
    "\n",
    "from austen import Logger\n",
    "from pathlib import Path\n",
    "\n",
    "from bike.model.graph import Graph\n",
    "from bike.util.preprocessing import smooth_graph"
   ]
  },
  {
   "cell_type": "code",
   "execution_count": 6,
   "metadata": {},
   "outputs": [
    {
     "output_type": "stream",
     "name": "stderr",
     "text": "100%|██████████| 9755/9755 [00:00<00:00, 162586.72it/s]\n100%|██████████| 1334/1334 [00:00<00:00, 333424.80it/s]\n"
    }
   ],
   "source": [
    "VERTICES_PATH = Path('../data/vertices.csv')\n",
    "EDGES_PATH = Path('../data/edges.csv')\n",
    "\n",
    "logger = Logger(Path('log/preprocessing'))\n",
    "\n",
    "\n",
    "graph = Graph(VERTICES_PATH, EDGES_PATH)\n",
    "smoothed_graph = smooth_graph(graph, angle_treshold=145)\n",
    "\n",
    "logger.save_obj(smoothed_graph, name='preprocessed.nx')"
   ]
  }
 ],
 "metadata": {
  "language_info": {
   "codemirror_mode": {
    "name": "ipython",
    "version": 3
   },
   "file_extension": ".py",
   "mimetype": "text/x-python",
   "name": "python",
   "nbconvert_exporter": "python",
   "pygments_lexer": "ipython3",
   "version": "3.7.5-final"
  },
  "orig_nbformat": 2,
  "kernelspec": {
   "name": "python37564bitenvvirtualenva01c0f1a757c4086bcfd227527205786",
   "display_name": "Python 3.7.5 64-bit ('env': virtualenv)"
  }
 },
 "nbformat": 4,
 "nbformat_minor": 2
}